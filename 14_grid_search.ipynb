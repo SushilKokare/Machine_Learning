{
 "cells": [
  {
   "cell_type": "code",
   "execution_count": 1,
   "id": "fd27d3d8",
   "metadata": {},
   "outputs": [],
   "source": [
    "from sklearn import datasets"
   ]
  },
  {
   "cell_type": "code",
   "execution_count": 2,
   "id": "171fc53d",
   "metadata": {},
   "outputs": [],
   "source": [
    "iris=datasets.load_iris()"
   ]
  },
  {
   "cell_type": "code",
   "execution_count": 6,
   "id": "6ea044f7",
   "metadata": {},
   "outputs": [],
   "source": [
    "X=iris['data']\n",
    "y=iris['target']"
   ]
  },
  {
   "cell_type": "code",
   "execution_count": 7,
   "id": "fcb276c8",
   "metadata": {},
   "outputs": [],
   "source": [
    "from sklearn.linear_model import LogisticRegression"
   ]
  },
  {
   "cell_type": "code",
   "execution_count": 8,
   "id": "18cdd7b0",
   "metadata": {},
   "outputs": [],
   "source": [
    "logit=LogisticRegression(max_iter=100000)"
   ]
  },
  {
   "cell_type": "code",
   "execution_count": 9,
   "id": "30b0a56c",
   "metadata": {},
   "outputs": [
    {
     "name": "stdout",
     "output_type": "stream",
     "text": [
      "LogisticRegression(max_iter=100000)\n"
     ]
    }
   ],
   "source": [
    "print(logit.fit(X,y))"
   ]
  },
  {
   "cell_type": "code",
   "execution_count": 10,
   "id": "5f841ede",
   "metadata": {},
   "outputs": [
    {
     "name": "stdout",
     "output_type": "stream",
     "text": [
      "0.9733333333333334\n"
     ]
    }
   ],
   "source": [
    "print(logit.score(X,y))"
   ]
  },
  {
   "cell_type": "code",
   "execution_count": 11,
   "id": "3fad788d",
   "metadata": {},
   "outputs": [],
   "source": [
    "C=[0.25,0.5,0.75,1,1.25,1.5,1.75,2]"
   ]
  },
  {
   "cell_type": "code",
   "execution_count": 12,
   "id": "c4576c61",
   "metadata": {},
   "outputs": [],
   "source": [
    "scores=[]"
   ]
  },
  {
   "cell_type": "code",
   "execution_count": 13,
   "id": "9c554f9f",
   "metadata": {},
   "outputs": [],
   "source": [
    "for choice in C:\n",
    "    logit.set_params(C=choice)\n",
    "    logit.fit(X,y)\n",
    "    scores.append(logit.score(X,y))"
   ]
  },
  {
   "cell_type": "code",
   "execution_count": 14,
   "id": "626b58af",
   "metadata": {},
   "outputs": [
    {
     "name": "stdout",
     "output_type": "stream",
     "text": [
      "[0.9666666666666667, 0.9666666666666667, 0.9733333333333334, 0.9733333333333334, 0.98, 0.98, 0.9866666666666667, 0.9866666666666667]\n"
     ]
    }
   ],
   "source": [
    "print(scores)"
   ]
  },
  {
   "cell_type": "code",
   "execution_count": null,
   "id": "0413827b",
   "metadata": {},
   "outputs": [],
   "source": []
  }
 ],
 "metadata": {
  "kernelspec": {
   "display_name": "Python 3 (ipykernel)",
   "language": "python",
   "name": "python3"
  },
  "language_info": {
   "codemirror_mode": {
    "name": "ipython",
    "version": 3
   },
   "file_extension": ".py",
   "mimetype": "text/x-python",
   "name": "python",
   "nbconvert_exporter": "python",
   "pygments_lexer": "ipython3",
   "version": "3.9.7"
  }
 },
 "nbformat": 4,
 "nbformat_minor": 5
}
