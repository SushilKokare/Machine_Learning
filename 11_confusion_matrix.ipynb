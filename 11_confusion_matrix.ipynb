{
 "cells": [
  {
   "cell_type": "code",
   "execution_count": 1,
   "id": "bb84b0a7",
   "metadata": {},
   "outputs": [],
   "source": [
    "import numpy as np"
   ]
  },
  {
   "cell_type": "code",
   "execution_count": 2,
   "id": "4ed417e7",
   "metadata": {},
   "outputs": [],
   "source": [
    "actual=np.random.binomial(1,0.9,size=1000)"
   ]
  },
  {
   "cell_type": "code",
   "execution_count": 3,
   "id": "2c75c678",
   "metadata": {},
   "outputs": [],
   "source": [
    "predicted=np.random.binomial(1,0.9,size=1000)"
   ]
  },
  {
   "cell_type": "code",
   "execution_count": 4,
   "id": "45817fa8",
   "metadata": {},
   "outputs": [],
   "source": [
    "from sklearn import metrics"
   ]
  },
  {
   "cell_type": "code",
   "execution_count": 5,
   "id": "05fe5b10",
   "metadata": {},
   "outputs": [],
   "source": [
    "cm=metrics.confusion_matrix(actual,predicted)"
   ]
  },
  {
   "cell_type": "code",
   "execution_count": 6,
   "id": "7f4b7805",
   "metadata": {},
   "outputs": [
    {
     "data": {
      "text/plain": [
       "array([[  7,  86],\n",
       "       [ 90, 817]])"
      ]
     },
     "execution_count": 6,
     "metadata": {},
     "output_type": "execute_result"
    }
   ],
   "source": [
    "cm"
   ]
  },
  {
   "cell_type": "code",
   "execution_count": 8,
   "id": "429ef0b0",
   "metadata": {},
   "outputs": [],
   "source": [
    "cm_display=metrics.ConfusionMatrixDisplay(confusion_matrix=cm,display_labels=[False,True])"
   ]
  },
  {
   "cell_type": "code",
   "execution_count": 9,
   "id": "799d4596",
   "metadata": {},
   "outputs": [],
   "source": [
    "import matplotlib.pyplot as plt"
   ]
  },
  {
   "cell_type": "code",
   "execution_count": 10,
   "id": "4feeb401",
   "metadata": {},
   "outputs": [
    {
     "data": {
      "image/png": "[encoded data removed]",
      "text/plain": [
       "<Figure size 432x288 with 2 Axes>"
      ]
     },
     "metadata": {
      "needs_background": "light"
     },
     "output_type": "display_data"
    }
   ],
   "source": [
    "cm_display.plot()\n",
    "plt.show()"
   ]
  },
  {
   "cell_type": "code",
   "execution_count": 11,
   "id": "e1b38bfb",
   "metadata": {},
   "outputs": [],
   "source": [
    "# Matrix provides us with many useful metrics that helps us to evaluate out classification model"
   ]
  },
  {
   "cell_type": "code",
   "execution_count": 12,
   "id": "e31b896e",
   "metadata": {},
   "outputs": [],
   "source": [
    "# accuracy,precision,sensitivity(recall), specificity & f-score"
   ]
  },
  {
   "cell_type": "code",
   "execution_count": 14,
   "id": "4a181f45",
   "metadata": {},
   "outputs": [],
   "source": [
    "# 1 accuracy = ( TP + TN ) / TOTAL PREDICTION"
   ]
  },
  {
   "cell_type": "code",
   "execution_count": 16,
   "id": "ede9f180",
   "metadata": {},
   "outputs": [
    {
     "data": {
      "text/plain": [
       "0.824"
      ]
     },
     "execution_count": 16,
     "metadata": {},
     "output_type": "execute_result"
    }
   ],
   "source": [
    "acc=metrics.accuracy_score(actual,predicted)\n",
    "acc"
   ]
  },
  {
   "cell_type": "code",
   "execution_count": 17,
   "id": "171ddad4",
   "metadata": {},
   "outputs": [],
   "source": [
    "# 2 precision = ( TP / ( TP + FP ) )"
   ]
  },
  {
   "cell_type": "code",
   "execution_count": 18,
   "id": "be91437e",
   "metadata": {},
   "outputs": [
    {
     "data": {
      "text/plain": [
       "0.9047619047619048"
      ]
     },
     "execution_count": 18,
     "metadata": {},
     "output_type": "execute_result"
    }
   ],
   "source": [
    "precision=metrics.precision_score(actual,predicted)\n",
    "precision"
   ]
  },
  {
   "cell_type": "code",
   "execution_count": 19,
   "id": "39bfcb5b",
   "metadata": {},
   "outputs": [],
   "source": [
    "# 3 sensitivity ( recall ) = ( TP / ( TP + FN ))"
   ]
  },
  {
   "cell_type": "code",
   "execution_count": 20,
   "id": "f2a4d28b",
   "metadata": {},
   "outputs": [
    {
     "data": {
      "text/plain": [
       "0.9007717750826902"
      ]
     },
     "execution_count": 20,
     "metadata": {},
     "output_type": "execute_result"
    }
   ],
   "source": [
    "sensitivity_recall=metrics.recall_score(actual,predicted)\n",
    "sensitivity_recall"
   ]
  },
  {
   "cell_type": "code",
   "execution_count": 21,
   "id": "2685875f",
   "metadata": {},
   "outputs": [],
   "source": [
    "# 4 specificity = ( TN / ( TN + FP ))"
   ]
  },
  {
   "cell_type": "code",
   "execution_count": 23,
   "id": "b7555ab5",
   "metadata": {},
   "outputs": [
    {
     "data": {
      "text/plain": [
       "0.07526881720430108"
      ]
     },
     "execution_count": 23,
     "metadata": {},
     "output_type": "execute_result"
    }
   ],
   "source": [
    "specificity = metrics.recall_score(actual,predicted,pos_label=0)\n",
    "specificity"
   ]
  },
  {
   "cell_type": "code",
   "execution_count": 24,
   "id": "47a7bae7",
   "metadata": {},
   "outputs": [],
   "source": [
    "# 5 F-Score = ( 2 * (( precision * sensitivity ) / ( precision + sensitivity )) )"
   ]
  },
  {
   "cell_type": "code",
   "execution_count": 25,
   "id": "2c6fbdcc",
   "metadata": {},
   "outputs": [
    {
     "data": {
      "text/plain": [
       "0.9027624309392266"
      ]
     },
     "execution_count": 25,
     "metadata": {},
     "output_type": "execute_result"
    }
   ],
   "source": [
    "f1_score=metrics.f1_score(actual,predicted)\n",
    "f1_score"
   ]
  },
  {
   "cell_type": "code",
   "execution_count": null,
   "id": "904cb4f4",
   "metadata": {},
   "outputs": [],
   "source": []
  }
 ],
 "metadata": {
  "kernelspec": {
   "display_name": "Python 3 (ipykernel)",
   "language": "python",
   "name": "python3"
  },
  "language_info": {
   "codemirror_mode": {
    "name": "ipython",
    "version": 3
   },
   "file_extension": ".py",
   "mimetype": "text/x-python",
   "name": "python",
   "nbconvert_exporter": "python",
   "pygments_lexer": "ipython3",
   "version": "3.9.7"
  }
 },
 "nbformat": 4,
 "nbformat_minor": 5
}
