{
 "cells": [
  {
   "cell_type": "code",
   "execution_count": 2,
   "id": "5ac32c28",
   "metadata": {},
   "outputs": [],
   "source": [
    "import numpy as np"
   ]
  },
  {
   "cell_type": "code",
   "execution_count": 3,
   "id": "b8f1eec8",
   "metadata": {},
   "outputs": [],
   "source": [
    "speed=[99,86,67,87,88,98,76,78,98,85,86]"
   ]
  },
  {
   "cell_type": "code",
   "execution_count": 4,
   "id": "da534b0a",
   "metadata": {},
   "outputs": [
    {
     "name": "stdout",
     "output_type": "stream",
     "text": [
      "86.18181818181819\n"
     ]
    }
   ],
   "source": [
    "print(np.mean(speed))"
   ]
  },
  {
   "cell_type": "code",
   "execution_count": 5,
   "id": "6cd6aebc",
   "metadata": {},
   "outputs": [
    {
     "data": {
      "text/plain": [
       "86.0"
      ]
     },
     "execution_count": 5,
     "metadata": {},
     "output_type": "execute_result"
    }
   ],
   "source": [
    "np.median(speed)"
   ]
  },
  {
   "cell_type": "code",
   "execution_count": 6,
   "id": "58f4397c",
   "metadata": {},
   "outputs": [],
   "source": [
    "from scipy import stats"
   ]
  },
  {
   "cell_type": "code",
   "execution_count": 7,
   "id": "c8f30fd1",
   "metadata": {},
   "outputs": [
    {
     "data": {
      "text/plain": [
       "ModeResult(mode=array([86]), count=array([2]))"
      ]
     },
     "execution_count": 7,
     "metadata": {},
     "output_type": "execute_result"
    }
   ],
   "source": [
    "stats.mode(speed)"
   ]
  },
  {
   "cell_type": "code",
   "execution_count": 8,
   "id": "46319962",
   "metadata": {},
   "outputs": [],
   "source": [
    "# SD"
   ]
  },
  {
   "cell_type": "code",
   "execution_count": 9,
   "id": "21442dd6",
   "metadata": {},
   "outputs": [
    {
     "data": {
      "text/plain": [
       "0.9035079029052513"
      ]
     },
     "execution_count": 9,
     "metadata": {},
     "output_type": "execute_result"
    }
   ],
   "source": [
    "s=[86,87,88,86,87,85,86]\n",
    "np.std(s)"
   ]
  },
  {
   "cell_type": "code",
   "execution_count": 10,
   "id": "c4be1785",
   "metadata": {},
   "outputs": [
    {
     "data": {
      "text/plain": [
       "37.84501153334721"
      ]
     },
     "execution_count": 10,
     "metadata": {},
     "output_type": "execute_result"
    }
   ],
   "source": [
    "s=[32,111,138,28,59,77,97]\n",
    "np.std(s)"
   ]
  },
  {
   "cell_type": "code",
   "execution_count": 11,
   "id": "71ffd307",
   "metadata": {},
   "outputs": [
    {
     "data": {
      "text/plain": [
       "77.42857142857143"
      ]
     },
     "execution_count": 11,
     "metadata": {},
     "output_type": "execute_result"
    }
   ],
   "source": [
    "np.mean(s)"
   ]
  },
  {
   "cell_type": "code",
   "execution_count": 12,
   "id": "d0b85dbd",
   "metadata": {},
   "outputs": [],
   "source": [
    "# variance"
   ]
  },
  {
   "cell_type": "code",
   "execution_count": 13,
   "id": "f4c713d7",
   "metadata": {},
   "outputs": [
    {
     "data": {
      "text/plain": [
       "1432.2448979591834"
      ]
     },
     "execution_count": 13,
     "metadata": {},
     "output_type": "execute_result"
    }
   ],
   "source": [
    "np.var(s)"
   ]
  },
  {
   "cell_type": "code",
   "execution_count": 14,
   "id": "5ae1a831",
   "metadata": {},
   "outputs": [],
   "source": [
    "# percentile"
   ]
  },
  {
   "cell_type": "code",
   "execution_count": 15,
   "id": "cbc55db7",
   "metadata": {},
   "outputs": [],
   "source": [
    "ages=[5,31,43,48,50,41,7,11,15,39,80,32,2,8,6,25,36,27,61,31]"
   ]
  },
  {
   "cell_type": "code",
   "execution_count": 20,
   "id": "97007eb4",
   "metadata": {},
   "outputs": [
    {
     "data": {
      "text/plain": [
       "41.5"
      ]
     },
     "execution_count": 20,
     "metadata": {},
     "output_type": "execute_result"
    }
   ],
   "source": [
    "np.percentile(ages,75)"
   ]
  },
  {
   "cell_type": "code",
   "execution_count": 21,
   "id": "d5ba4888",
   "metadata": {},
   "outputs": [
    {
     "data": {
      "text/plain": [
       "80.0"
      ]
     },
     "execution_count": 21,
     "metadata": {},
     "output_type": "execute_result"
    }
   ],
   "source": [
    "np.percentile(ages,100)"
   ]
  },
  {
   "cell_type": "code",
   "execution_count": 22,
   "id": "d2a22ab8",
   "metadata": {},
   "outputs": [],
   "source": [
    "# what is the age that 90% of the people are younger than ?"
   ]
  },
  {
   "cell_type": "code",
   "execution_count": 24,
   "id": "de4f892a",
   "metadata": {},
   "outputs": [
    {
     "data": {
      "text/plain": [
       "51.100000000000016"
      ]
     },
     "execution_count": 24,
     "metadata": {},
     "output_type": "execute_result"
    }
   ],
   "source": [
    "np.percentile(ages,90)"
   ]
  },
  {
   "cell_type": "code",
   "execution_count": null,
   "id": "966595b4",
   "metadata": {},
   "outputs": [],
   "source": []
  }
 ],
 "metadata": {
  "kernelspec": {
   "display_name": "Python 3 (ipykernel)",
   "language": "python",
   "name": "python3"
  },
  "language_info": {
   "codemirror_mode": {
    "name": "ipython",
    "version": 3
   },
   "file_extension": ".py",
   "mimetype": "text/x-python",
   "name": "python",
   "nbconvert_exporter": "python",
   "pygments_lexer": "ipython3",
   "version": "3.9.7"
  }
 },
 "nbformat": 4,
 "nbformat_minor": 5
}
