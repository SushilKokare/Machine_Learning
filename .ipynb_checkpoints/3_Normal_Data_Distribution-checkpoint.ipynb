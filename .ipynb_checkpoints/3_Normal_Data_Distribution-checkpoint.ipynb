{
 "cells": [
  {
   "cell_type": "code",
   "execution_count": 1,
   "id": "c1b553d9",
   "metadata": {},
   "outputs": [],
   "source": [
    "# Normal Data Distribution"
   ]
  },
  {
   "cell_type": "code",
   "execution_count": 10,
   "id": "016dd7f1",
   "metadata": {},
   "outputs": [],
   "source": [
    "import numpy as np\n",
    "import matplotlib.pyplot as plt"
   ]
  },
  {
   "cell_type": "code",
   "execution_count": 14,
   "id": "d3f255a9",
   "metadata": {},
   "outputs": [],
   "source": [
    "x=np.random.normal(5.0,1.0,size=100)"
   ]
  },
  {
   "cell_type": "code",
   "execution_count": 15,
   "id": "deadb1bf",
   "metadata": {},
   "outputs": [
    {
     "data": {
      "text/plain": [
       "array([2.56354728, 6.27276336, 5.2593635 , 5.68775645, 6.16014795,\n",
       "       5.53830637, 6.24113209, 4.7357017 , 5.92784809, 4.57274728,\n",
       "       4.62914493, 3.6868161 , 3.52279207, 6.85624021, 4.70350426,\n",
       "       5.04365369, 5.92941116, 3.83195131, 6.11725745, 4.20682942,\n",
       "       5.95365796, 4.28983753, 5.36017385, 6.64413119, 4.58688453,\n",
       "       2.79975275, 5.7576497 , 5.11159634, 5.61950296, 4.73641487,\n",
       "       5.29892042, 3.33180974, 5.89334302, 4.06022181, 3.82253009,\n",
       "       5.01250122, 3.12027136, 4.46860454, 4.79382399, 6.6098201 ,\n",
       "       5.88342804, 4.20063477, 4.53866368, 3.53737141, 4.66524318,\n",
       "       5.63079813, 3.55459759, 3.46533266, 5.8882144 , 4.79704782,\n",
       "       5.45170879, 5.92514408, 3.15313554, 4.49964041, 2.87144761,\n",
       "       5.84250915, 3.53118387, 3.78424871, 6.07937135, 5.40278304,\n",
       "       6.65264173, 5.56758279, 5.24566157, 5.85077794, 4.67962502,\n",
       "       5.29367211, 4.48370982, 4.79832924, 6.33438318, 4.21047922,\n",
       "       4.99193948, 4.50241719, 4.52121588, 5.57110111, 5.50138382,\n",
       "       5.123759  , 7.17226672, 6.75840661, 4.98244225, 5.55070985,\n",
       "       4.64924739, 5.24529625, 5.22021103, 4.9313506 , 4.84094033,\n",
       "       5.92212276, 5.15645156, 5.81410363, 4.48601998, 4.27395814,\n",
       "       7.44443018, 3.94783517, 4.96147532, 5.61481973, 7.15705256,\n",
       "       3.76029239, 4.16514448, 5.89846113, 4.72188837, 7.90383985])"
      ]
     },
     "execution_count": 15,
     "metadata": {},
     "output_type": "execute_result"
    }
   ],
   "source": [
    "x"
   ]
  },
  {
   "cell_type": "code",
   "execution_count": 16,
   "id": "b8c84b39",
   "metadata": {},
   "outputs": [
    {
     "data": {
      "text/plain": [
       "(array([ 3.,  8.,  8., 18., 18., 18., 17.,  5.,  3.,  2.]),\n",
       " array([2.56354728, 3.09757653, 3.63160579, 4.16563505, 4.69966431,\n",
       "        5.23369356, 5.76772282, 6.30175208, 6.83578134, 7.36981059,\n",
       "        7.90383985]),\n",
       " <BarContainer object of 10 artists>)"
      ]
     },
     "execution_count": 16,
     "metadata": {},
     "output_type": "execute_result"
    },
    {
     "data": {
      "image/png": "[encoded data removed]",
      "text/plain": [
       "<Figure size 432x288 with 1 Axes>"
      ]
     },
     "metadata": {
      "needs_background": "light"
     },
     "output_type": "display_data"
    }
   ],
   "source": [
    "plt.hist(x)"
   ]
  },
  {
   "cell_type": "code",
   "execution_count": 17,
   "id": "dd2da1a8",
   "metadata": {},
   "outputs": [],
   "source": [
    "y=np.random.normal(5.0,1.0,size=100)"
   ]
  },
  {
   "cell_type": "code",
   "execution_count": 18,
   "id": "8720533f",
   "metadata": {},
   "outputs": [
    {
     "data": {
      "text/plain": [
       "<matplotlib.collections.PathCollection at 0x7f5fedea7fa0>"
      ]
     },
     "execution_count": 18,
     "metadata": {},
     "output_type": "execute_result"
    },
    {
     "data": {
      "image/png": "[encoded data removed]",
      "text/plain": [
       "<Figure size 432x288 with 1 Axes>"
      ]
     },
     "metadata": {
      "needs_background": "light"
     },
     "output_type": "display_data"
    }
   ],
   "source": [
    "plt.scatter(x,y)"
   ]
  },
  {
   "cell_type": "code",
   "execution_count": null,
   "id": "eb3e996d",
   "metadata": {},
   "outputs": [],
   "source": []
  }
 ],
 "metadata": {
  "kernelspec": {
   "display_name": "Python 3 (ipykernel)",
   "language": "python",
   "name": "python3"
  },
  "language_info": {
   "codemirror_mode": {
    "name": "ipython",
    "version": 3
   },
   "file_extension": ".py",
   "mimetype": "text/x-python",
   "name": "python",
   "nbconvert_exporter": "python",
   "pygments_lexer": "ipython3",
   "version": "3.9.7"
  }
 },
 "nbformat": 4,
 "nbformat_minor": 5
}
