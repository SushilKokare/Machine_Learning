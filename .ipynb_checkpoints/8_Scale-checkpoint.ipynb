{
 "cells": [
  {
   "cell_type": "code",
   "execution_count": 1,
   "id": "2a04cb72",
   "metadata": {},
   "outputs": [],
   "source": [
    "import pandas as pd"
   ]
  },
  {
   "cell_type": "code",
   "execution_count": 4,
   "id": "95825d79",
   "metadata": {},
   "outputs": [],
   "source": [
    "df=pd.read_csv('cars2.csv')"
   ]
  },
  {
   "cell_type": "code",
   "execution_count": 5,
   "id": "4334df21",
   "metadata": {},
   "outputs": [
    {
     "data": {
      "text/html": [
       "<div>\n",
       "<style scoped>\n",
       "    .dataframe tbody tr th:only-of-type {\n",
       "        vertical-align: middle;\n",
       "    }\n",
       "\n",
       "    .dataframe tbody tr th {\n",
       "        vertical-align: top;\n",
       "    }\n",
       "\n",
       "    .dataframe thead th {\n",
       "        text-align: right;\n",
       "    }\n",
       "</style>\n",
       "<table border=\"1\" class=\"dataframe\">\n",
       "  <thead>\n",
       "    <tr style=\"text-align: right;\">\n",
       "      <th></th>\n",
       "      <th>Car</th>\n",
       "      <th>Model</th>\n",
       "      <th>Volume</th>\n",
       "      <th>Weight</th>\n",
       "      <th>CO2</th>\n",
       "    </tr>\n",
       "  </thead>\n",
       "  <tbody>\n",
       "    <tr>\n",
       "      <th>0</th>\n",
       "      <td>Toyoty</td>\n",
       "      <td>Aygo</td>\n",
       "      <td>1.0</td>\n",
       "      <td>790</td>\n",
       "      <td>99</td>\n",
       "    </tr>\n",
       "    <tr>\n",
       "      <th>1</th>\n",
       "      <td>Mitsubishi</td>\n",
       "      <td>Space Star</td>\n",
       "      <td>1.2</td>\n",
       "      <td>1160</td>\n",
       "      <td>95</td>\n",
       "    </tr>\n",
       "    <tr>\n",
       "      <th>2</th>\n",
       "      <td>Skoda</td>\n",
       "      <td>Citigo</td>\n",
       "      <td>1.0</td>\n",
       "      <td>929</td>\n",
       "      <td>95</td>\n",
       "    </tr>\n",
       "    <tr>\n",
       "      <th>3</th>\n",
       "      <td>Fiat</td>\n",
       "      <td>500</td>\n",
       "      <td>0.9</td>\n",
       "      <td>865</td>\n",
       "      <td>90</td>\n",
       "    </tr>\n",
       "    <tr>\n",
       "      <th>4</th>\n",
       "      <td>Mini</td>\n",
       "      <td>Cooper</td>\n",
       "      <td>1.5</td>\n",
       "      <td>1140</td>\n",
       "      <td>105</td>\n",
       "    </tr>\n",
       "  </tbody>\n",
       "</table>\n",
       "</div>"
      ],
      "text/plain": [
       "          Car       Model  Volume  Weight  CO2\n",
       "0      Toyoty        Aygo     1.0     790   99\n",
       "1  Mitsubishi  Space Star     1.2    1160   95\n",
       "2       Skoda      Citigo     1.0     929   95\n",
       "3        Fiat         500     0.9     865   90\n",
       "4        Mini      Cooper     1.5    1140  105"
      ]
     },
     "execution_count": 5,
     "metadata": {},
     "output_type": "execute_result"
    }
   ],
   "source": [
    "df.head()"
   ]
  },
  {
   "cell_type": "code",
   "execution_count": 6,
   "id": "4394b33f",
   "metadata": {},
   "outputs": [],
   "source": [
    "# standardization\n",
    "# z = (x-u)/s  \n",
    "# where z =  new value\n",
    "#       x = origianl value\n",
    "#       u = mean\n",
    "#       s = standard deviation"
   ]
  },
  {
   "cell_type": "code",
   "execution_count": 11,
   "id": "b349ba8d",
   "metadata": {},
   "outputs": [],
   "source": [
    "# z = (790-1292.23) / 238.74 = -2.1 \n",
    "# below code to calculate mean and SD"
   ]
  },
  {
   "cell_type": "code",
   "execution_count": 12,
   "id": "9e35d411",
   "metadata": {},
   "outputs": [],
   "source": [
    "import numpy as np"
   ]
  },
  {
   "cell_type": "code",
   "execution_count": 13,
   "id": "d44eada1",
   "metadata": {},
   "outputs": [
    {
     "data": {
      "text/plain": [
       "1292.2777777777778"
      ]
     },
     "execution_count": 13,
     "metadata": {},
     "output_type": "execute_result"
    }
   ],
   "source": [
    "np.mean(df['Weight'])"
   ]
  },
  {
   "cell_type": "code",
   "execution_count": 14,
   "id": "be8a7f16",
   "metadata": {},
   "outputs": [
    {
     "data": {
      "text/plain": [
       "238.73737443185826"
      ]
     },
     "execution_count": 14,
     "metadata": {},
     "output_type": "execute_result"
    }
   ],
   "source": [
    "np.std(df['Weight'])"
   ]
  },
  {
   "cell_type": "code",
   "execution_count": 15,
   "id": "48c0a0d5",
   "metadata": {},
   "outputs": [],
   "source": [
    "# from 3rd line of code , continue"
   ]
  },
  {
   "cell_type": "code",
   "execution_count": 16,
   "id": "1b784033",
   "metadata": {},
   "outputs": [],
   "source": [
    "# if you take volume column from the data"
   ]
  },
  {
   "cell_type": "code",
   "execution_count": 17,
   "id": "046e702d",
   "metadata": {},
   "outputs": [],
   "source": [
    "# (1.0 - 1.61) / 0.38 = -1.59"
   ]
  },
  {
   "cell_type": "code",
   "execution_count": 18,
   "id": "be4e900b",
   "metadata": {},
   "outputs": [],
   "source": [
    "# now we can compare -2.1 to -1.59"
   ]
  },
  {
   "cell_type": "code",
   "execution_count": 19,
   "id": "fa4921a5",
   "metadata": {},
   "outputs": [],
   "source": [
    "# example"
   ]
  },
  {
   "cell_type": "code",
   "execution_count": 20,
   "id": "cd796055",
   "metadata": {},
   "outputs": [],
   "source": [
    "import pandas as pd\n",
    "from sklearn import linear_model\n",
    "from sklearn.preprocessing import StandardScaler"
   ]
  },
  {
   "cell_type": "code",
   "execution_count": 22,
   "id": "c1957dd4",
   "metadata": {},
   "outputs": [],
   "source": [
    "scale=StandardScaler()"
   ]
  },
  {
   "cell_type": "code",
   "execution_count": 23,
   "id": "5ff6d5ae",
   "metadata": {},
   "outputs": [],
   "source": [
    "df=pd.read_csv(\"cars2.csv\")"
   ]
  },
  {
   "cell_type": "code",
   "execution_count": 24,
   "id": "4f628dd3",
   "metadata": {},
   "outputs": [],
   "source": [
    "X=df[['Weight','Volume']]"
   ]
  },
  {
   "cell_type": "code",
   "execution_count": 25,
   "id": "59d6c6f0",
   "metadata": {},
   "outputs": [],
   "source": [
    "scaledX=scale.fit_transform(X)"
   ]
  },
  {
   "cell_type": "code",
   "execution_count": 31,
   "id": "76961188",
   "metadata": {},
   "outputs": [
    {
     "name": "stdout",
     "output_type": "stream",
     "text": [
      "[[-2.10389253 -1.59336644]\n",
      " [-0.55407235 -1.07190106]\n",
      " [-1.52166278 -1.59336644]\n",
      " [-1.78973979 -1.85409913]\n",
      " [-0.63784641 -0.28970299]\n",
      " [-1.52166278 -1.59336644]\n",
      " [-0.76769621 -0.55043568]\n",
      " [ 0.3046118  -0.28970299]\n",
      " [-0.7551301  -0.28970299]\n",
      " [-0.59595938 -0.0289703 ]\n",
      " [-1.30803892 -1.33263375]\n",
      " [-1.26615189 -0.81116837]\n",
      " [-0.7551301  -1.59336644]\n",
      " [-0.16871166 -0.0289703 ]\n",
      " [ 0.14125238 -0.0289703 ]\n",
      " [ 0.15800719 -0.0289703 ]\n",
      " [ 0.3046118  -0.0289703 ]\n",
      " [-0.05142797  1.53542584]\n",
      " [-0.72580918 -0.0289703 ]\n",
      " [ 0.14962979  1.01396046]\n",
      " [ 1.2219378  -0.0289703 ]\n",
      " [ 0.5685001   1.01396046]\n",
      " [ 0.3046118   1.27469315]\n",
      " [ 0.51404696 -0.0289703 ]\n",
      " [ 0.51404696  1.01396046]\n",
      " [ 0.72348212 -0.28970299]\n",
      " [ 0.8281997   1.01396046]\n",
      " [ 1.81254495  1.01396046]\n",
      " [ 0.96642691 -0.0289703 ]\n",
      " [ 1.72877089  1.01396046]\n",
      " [ 1.30990057  1.27469315]\n",
      " [ 1.90050772  1.01396046]\n",
      " [-0.23991961 -0.0289703 ]\n",
      " [ 0.40932938 -0.0289703 ]\n",
      " [ 0.47215993 -0.0289703 ]\n",
      " [ 0.4302729   2.31762392]]\n"
     ]
    }
   ],
   "source": [
    "print(scaledX)"
   ]
  },
  {
   "cell_type": "code",
   "execution_count": 33,
   "id": "f70a9771",
   "metadata": {},
   "outputs": [],
   "source": [
    "# Predict CO2 values"
   ]
  },
  {
   "cell_type": "code",
   "execution_count": 39,
   "id": "e0d6eb89",
   "metadata": {},
   "outputs": [],
   "source": [
    "y=df['CO2']\n",
    "scaledX=scale.fit_transform(X)"
   ]
  },
  {
   "cell_type": "code",
   "execution_count": 40,
   "id": "6ff3aeda",
   "metadata": {},
   "outputs": [],
   "source": [
    "regr=linear_model.LinearRegression()"
   ]
  },
  {
   "cell_type": "code",
   "execution_count": 41,
   "id": "b752f489",
   "metadata": {},
   "outputs": [
    {
     "data": {
      "text/plain": [
       "LinearRegression()"
      ]
     },
     "execution_count": 41,
     "metadata": {},
     "output_type": "execute_result"
    }
   ],
   "source": [
    "regr.fit(scaledX,y)"
   ]
  },
  {
   "cell_type": "code",
   "execution_count": 42,
   "id": "bb5c22b8",
   "metadata": {},
   "outputs": [],
   "source": [
    "scaled=scale.transform([[2300,1.3]])"
   ]
  },
  {
   "cell_type": "code",
   "execution_count": 43,
   "id": "888a91f0",
   "metadata": {},
   "outputs": [],
   "source": [
    "predictedCO2=regr.predict([scaled[0]])"
   ]
  },
  {
   "cell_type": "code",
   "execution_count": 44,
   "id": "4a7a7332",
   "metadata": {},
   "outputs": [
    {
     "name": "stdout",
     "output_type": "stream",
     "text": [
      "[107.2087328]\n"
     ]
    }
   ],
   "source": [
    "print(predictedCO2)"
   ]
  },
  {
   "cell_type": "code",
   "execution_count": null,
   "id": "f11bab8f",
   "metadata": {},
   "outputs": [],
   "source": []
  }
 ],
 "metadata": {
  "kernelspec": {
   "display_name": "Python 3 (ipykernel)",
   "language": "python",
   "name": "python3"
  },
  "language_info": {
   "codemirror_mode": {
    "name": "ipython",
    "version": 3
   },
   "file_extension": ".py",
   "mimetype": "text/x-python",
   "name": "python",
   "nbconvert_exporter": "python",
   "pygments_lexer": "ipython3",
   "version": "3.9.7"
  }
 },
 "nbformat": 4,
 "nbformat_minor": 5
}
